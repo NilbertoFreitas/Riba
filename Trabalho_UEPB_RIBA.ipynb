{
  "nbformat": 4,
  "nbformat_minor": 0,
  "metadata": {
    "colab": {
      "name": "Trabalho UEPB RIBA.ipynb",
      "provenance": [],
      "collapsed_sections": [],
      "authorship_tag": "ABX9TyMCJGMiiXxzP3KnbNLpYhq9",
      "include_colab_link": true
    },
    "kernelspec": {
      "name": "python3",
      "display_name": "Python 3"
    },
    "language_info": {
      "name": "python"
    }
  },
  "cells": [
    {
      "cell_type": "markdown",
      "metadata": {
        "id": "view-in-github",
        "colab_type": "text"
      },
      "source": [
        "<a href=\"https://colab.research.google.com/github/NilbertoFreitas/Riba/blob/main/Trabalho_UEPB_RIBA.ipynb\" target=\"_parent\"><img src=\"https://colab.research.google.com/assets/colab-badge.svg\" alt=\"Open In Colab\"/></a>"
      ]
    },
    {
      "cell_type": "code",
      "source": [
        "entrada = input(\"\").split()\n",
        "\n",
        "resultado=[]\n",
        "for i in range(len(entrada)):\n",
        "  #print(entrada[i])\n",
        "\n",
        "  #gms\n",
        "  if 'g' in entrada[i] and 'm' in entrada[i] and 's' in entrada[i]:\n",
        "    graus = entrada[i].replace(\"g\", \"x\").replace(\"m\", \"x\").replace(\"s\", \"x\")\n",
        "    graus = graus.split('x')\n",
        "    graus.pop(-1)  #retira o último elemnto da lista que está vazio\n",
        "    converte = list(map(int, graus)) # Converte a lista de string para numérica\n",
        "    resultado.append(tuple(converte)) # converta a lista em tupla\n",
        "    \n",
        "  #gm\n",
        "  if 'g' in entrada[i] and 'm' in entrada[i] and 's' not in entrada[i]:\n",
        "    graus = entrada[i].replace(\"g\", \"x\").replace(\"m\", \"x\")\n",
        "    graus = graus.split('x')\n",
        "    graus.pop(-1)  #retira o último elemnto da lista que está vazio\n",
        "    graus.insert(2, 0)  # insere o zero na posição faltate do \"s\"\n",
        "    converte = list(map(int, graus)) # Converte a lista de string para numérica\n",
        "    resultado.append(tuple(converte)) # converta a lista em tupla\n",
        "\n",
        "  #gs\n",
        "  if 'g' in entrada[i] and 'm' not in entrada[i] and 's' in entrada[i]:\n",
        "    graus = entrada[i].replace(\"g\", \"x\").replace(\"s\", \"x\")\n",
        "    graus = graus.split('x')\n",
        "    graus.pop(-1)  #retira o último elemnto da lista que está vazio\n",
        "    graus.insert(1, 0)  # insere o zero na posição faltate do \"m\"\n",
        "    converte = list(map(int, graus)) # Converte a lista de string para numérica\n",
        "    resultado.append(tuple(converte)) # converta a lista em tupla\n",
        "\n",
        "  #ms\n",
        "  if 'g' not in entrada[i] and 'm' in entrada[i] and 's' in entrada[i]:\n",
        "    graus = entrada[i].replace(\"m\", \"x\").replace(\"s\", \"x\")\n",
        "    graus = graus.split('x')\n",
        "    graus.pop(-1)  #retira o último elemnto da lista que está vazio\n",
        "    graus.insert(0, 0)  # insere o zero na posição faltate do \"g\"\n",
        "    converte = list(map(int, graus)) # Converte a lista de string para numérica\n",
        "    resultado.append(tuple(converte)) # converta a lista em tupla\n",
        "\n",
        "  #g\n",
        "  if 'g' in entrada[i] and 'm' not in entrada[i] and 's' not in entrada[i]:\n",
        "    graus = entrada[i].replace(\"g\", \"x\")\n",
        "    graus = graus.split('x')\n",
        "    graus.pop(-1)  #retira o último elemnto da lista que está vazio\n",
        "    graus.insert(1, 0)  # insere o zero na posição faltate do \"m\"\n",
        "    graus.insert(2, 0)  # insere o zero na posição faltate do \"s\"\n",
        "    converte = list(map(int, graus)) # Converte a lista de string para numérica\n",
        "    resultado.append(tuple(converte)) # converta a lista em tupla\n",
        "\n",
        "  #m\n",
        "  if 'g' not in entrada[i] and 'm' in entrada[i] and 's' not in entrada[i]:\n",
        "    graus = entrada[i].replace(\"m\", \"x\")\n",
        "    graus = graus.split('x')\n",
        "    graus.pop(-1)  #retira o último elemnto da lista que está vazio\n",
        "    graus.insert(0, 0)  # insere o zero na posição faltate do \"g\"\n",
        "    graus.insert(2, 0)  # insere o zero na posição faltate do \"s\"\n",
        "    converte = list(map(int, graus)) # Converte a lista de string para numérica\n",
        "    resultado.append(tuple(converte)) # converta a lista em tupla\n",
        "\n",
        "  #s\n",
        "  if 'g' not in entrada[i] and 'm' not in entrada[i] and 's' in entrada[i]:\n",
        "    graus = entrada[i].replace(\"s\", \"x\")\n",
        "    graus = graus.split('x')\n",
        "    graus.pop(-1)  #retira o último elemnto da lista que está vazio\n",
        "    graus.insert(0, 0)  # insere o zero na posição faltate do \"m\"\n",
        "    graus.insert(1, 0)  # insere o zero na posição faltate do \"s\"\n",
        "    converte = list(map(int, graus)) # Converte a lista de string para numérica\n",
        "    resultado.append(tuple(converte)) # converta a lista em tupla\n",
        "\n",
        "print(entrada)\n",
        "print(resultado)\n"
      ],
      "metadata": {
        "id": "tZrZnGQXuuqF"
      },
      "execution_count": null,
      "outputs": []
    },
    {
      "cell_type": "code",
      "source": [
        "chave_lista = entrada\n",
        "valor_lista = resultado\n",
        "\n",
        "dict_lista = dict(zip(chave_lista, valor_lista))\n",
        "print(dict_lista)"
      ],
      "metadata": {
        "id": "GwNcpB4NUq9P"
      },
      "execution_count": null,
      "outputs": []
    },
    {
      "cell_type": "code",
      "source": [
        "#Converter os graus e minutos em segundos totais e em seguida\n",
        "#utilizar o código abaixo para utilizar a conversão total de segundos das entradas anteriores\n",
        "\n",
        "segundos_str = input(\"Por favor, entre com o número de segundos que deseja converter: \")\n",
        "total_segs = int(segundos_str)\n",
        "\n",
        "graus_total = total_segs // 3600\n",
        "segs_restantes = total_segs % 3600\n",
        "minutos = segs_restantes // 60\n",
        "segs_restantes_final = segs_restantes % 60\n",
        "\n",
        "print(graus_total, \"graus, \", minutos, \"minutos e\", segs_restantes_final, \"segundos.\")"
      ],
      "metadata": {
        "id": "4j9o4XSqUrvH"
      },
      "execution_count": null,
      "outputs": []
    }
  ]
}