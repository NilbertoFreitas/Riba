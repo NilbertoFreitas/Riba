{
  "nbformat": 4,
  "nbformat_minor": 0,
  "metadata": {
    "colab": {
      "name": "Trabalho UEPB RIBA.ipynb",
      "provenance": [],
      "collapsed_sections": [],
      "authorship_tag": "ABX9TyOcloJGvC85oaj14KvhU2v8",
      "include_colab_link": true
    },
    "kernelspec": {
      "name": "python3",
      "display_name": "Python 3"
    },
    "language_info": {
      "name": "python"
    }
  },
  "cells": [
    {
      "cell_type": "markdown",
      "metadata": {
        "id": "view-in-github",
        "colab_type": "text"
      },
      "source": [
        "<a href=\"https://colab.research.google.com/github/NilbertoFreitas/Riba/blob/main/Trabalho_UEPB_RIBA.ipynb\" target=\"_parent\"><img src=\"https://colab.research.google.com/assets/colab-badge.svg\" alt=\"Open In Colab\"/></a>"
      ]
    },
    {
      "cell_type": "code",
      "source": [
        "entrada = input(\"\").split()\n",
        "\n",
        "resultado=[]\n",
        "dicionario={}\n",
        "for i in range(len(entrada)):\n",
        "  #print(entrada[i])\n",
        "\n",
        "  #gms\n",
        "  if 'g' in entrada[i] and 'm' in entrada[i] and 's' in entrada[i]:\n",
        "    graus = entrada[i].replace(\"g\", \"x\").replace(\"m\", \"x\").replace(\"s\", \"x\")\n",
        "    graus = graus.split('x')\n",
        "    graus.pop(-1)  #retira o último elemnto da lista que está vazio\n",
        "    converte = list(map(int, graus)) # Converte a lista de string para numérica\n",
        "    resultado.append(tuple(converte)) # converta a lista em tupla\n",
        "    \n",
        "  #gm\n",
        "  if 'g' in entrada[i] and 'm' in entrada[i] and 's' not in entrada[i]:\n",
        "    graus = entrada[i].replace(\"g\", \"x\").replace(\"m\", \"x\")\n",
        "    graus = graus.split('x')\n",
        "    graus.pop(-1)  #retira o último elemnto da lista que está vazio\n",
        "    graus.insert(2, 0)  # insere o zero na posição faltate do \"s\"\n",
        "    converte = list(map(int, graus)) # Converte a lista de string para numérica\n",
        "    resultado.append(tuple(converte)) # converta a lista em tupla\n",
        "\n",
        "  #gs\n",
        "  if 'g' in entrada[i] and 'm' not in entrada[i] and 's' in entrada[i]:\n",
        "    graus = entrada[i].replace(\"g\", \"x\").replace(\"s\", \"x\")\n",
        "    graus = graus.split('x')\n",
        "    graus.pop(-1)  #retira o último elemnto da lista que está vazio\n",
        "    graus.insert(1, 0)  # insere o zero na posição faltate do \"m\"\n",
        "    converte = list(map(int, graus)) # Converte a lista de string para numérica\n",
        "    resultado.append(tuple(converte)) # converta a lista em tupla\n",
        "\n",
        "  #ms\n",
        "  if 'g' not in entrada[i] and 'm' in entrada[i] and 's' in entrada[i]:\n",
        "    graus = entrada[i].replace(\"m\", \"x\").replace(\"s\", \"x\")\n",
        "    graus = graus.split('x')\n",
        "    graus.pop(-1)  #retira o último elemnto da lista que está vazio\n",
        "    graus.insert(0, 0)  # insere o zero na posição faltate do \"g\"\n",
        "    converte = list(map(int, graus)) # Converte a lista de string para numérica\n",
        "    resultado.append(tuple(converte)) # converta a lista em tupla\n",
        "\n",
        "  #g\n",
        "  if 'g' in entrada[i] and 'm' not in entrada[i] and 's' not in entrada[i]:\n",
        "    graus = entrada[i].replace(\"g\", \"x\")\n",
        "    graus = graus.split('x')\n",
        "    graus.pop(-1)  #retira o último elemnto da lista que está vazio\n",
        "    graus.insert(1, 0)  # insere o zero na posição faltate do \"m\"\n",
        "    graus.insert(2, 0)  # insere o zero na posição faltate do \"s\"\n",
        "    converte = list(map(int, graus)) # Converte a lista de string para numérica\n",
        "    resultado.append(tuple(converte)) # converta a lista em tupla\n",
        "\n",
        "  #m\n",
        "  if 'g' not in entrada[i] and 'm' in entrada[i] and 's' not in entrada[i]:\n",
        "    graus = entrada[i].replace(\"m\", \"x\")\n",
        "    graus = graus.split('x')\n",
        "    graus.pop(-1)  #retira o último elemnto da lista que está vazio\n",
        "    graus.insert(0, 0)  # insere o zero na posição faltate do \"g\"\n",
        "    graus.insert(2, 0)  # insere o zero na posição faltate do \"s\"\n",
        "    converte = list(map(int, graus)) # Converte a lista de string para numérica\n",
        "    resultado.append(tuple(converte)) # converta a lista em tupla\n",
        "\n",
        "  #s\n",
        "  if 'g' not in entrada[i] and 'm' not in entrada[i] and 's' in entrada[i]:\n",
        "    graus = entrada[i].replace(\"s\", \"x\")\n",
        "    graus = graus.split('x')\n",
        "    graus.pop(-1)  #retira o último elemnto da lista que está vazio\n",
        "    graus.insert(0, 0)  # insere o zero na posição faltate do \"m\"\n",
        "    graus.insert(1, 0)  # insere o zero na posição faltate do \"s\"\n",
        "    converte = list(map(int, graus)) # Converte a lista de string para numérica\n",
        "    resultado.append(tuple(converte)) # converta a lista em tupla\n",
        "\n",
        "print(entrada)\n",
        "print(resultado)\n"
      ],
      "metadata": {
        "colab": {
          "base_uri": "https://localhost:8080/"
        },
        "outputId": "147aaccf-5235-41d9-8513-d686091aa1ff",
        "id": "tZrZnGQXuuqF"
      },
      "execution_count": 52,
      "outputs": [
        {
          "output_type": "stream",
          "name": "stdout",
          "text": [
            "25g2m 3m2s 2s 45m2s 35g2m2s\n",
            "['25g2m', '3m2s', '2s', '45m2s', '35g2m2s']\n",
            "[(25, 2, 0), (0, 3, 2), (0, 0, 2), (0, 45, 2), (35, 2, 2)]\n"
          ]
        }
      ]
    },
    {
      "cell_type": "code",
      "source": [
        "key_list = entrada\n",
        "value_list = resultado\n",
        "\n",
        "dict_from_list = dict(zip(key_list, value_list))\n",
        "print(dict_from_list)"
      ],
      "metadata": {
        "id": "GwNcpB4NUq9P",
        "outputId": "4c3341cc-e3a6-476f-c682-a015fd665971",
        "colab": {
          "base_uri": "https://localhost:8080/"
        }
      },
      "execution_count": 53,
      "outputs": [
        {
          "output_type": "stream",
          "name": "stdout",
          "text": [
            "{'25g2m': (25, 2, 0), '3m2s': (0, 3, 2), '2s': (0, 0, 2), '45m2s': (0, 45, 2), '35g2m2s': (35, 2, 2)}\n"
          ]
        }
      ]
    },
    {
      "cell_type": "code",
      "source": [
        "segundos_str = input(\"Por favor, entre com o número de segundos que deseja converter: \")\n",
        "total_segs = int(segundos_str)\n",
        "\n",
        "horas= total_segs // 3600\n",
        "segs_restantes = total_segs % 3600\n",
        "minutos = segs_restantes // 60\n",
        "segs_restantes_final = segs_restantes % 60\n",
        "\n",
        "print(horas, \"horas, \", minutos, \"minutos e\", segs_restantes_final, \"segundos.\")"
      ],
      "metadata": {
        "id": "4j9o4XSqUrvH",
        "outputId": "2c16528c-1fe9-4f9b-f9cb-4971faf2a63a",
        "colab": {
          "base_uri": "https://localhost:8080/"
        }
      },
      "execution_count": 20,
      "outputs": [
        {
          "output_type": "stream",
          "name": "stdout",
          "text": [
            "Por favor, entre com o número de segundos que deseja converter: 3600\n",
            "1 horas,  0 minutos e 0 segundos.\n"
          ]
        }
      ]
    }
  ]
}