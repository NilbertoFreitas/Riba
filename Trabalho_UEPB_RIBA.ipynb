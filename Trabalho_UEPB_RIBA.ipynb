{
  "nbformat": 4,
  "nbformat_minor": 0,
  "metadata": {
    "colab": {
      "name": "Trabalho UEPB RIBA.ipynb",
      "provenance": [],
      "collapsed_sections": [],
      "authorship_tag": "ABX9TyMlexnOS5d0e8P8TGpMMeNy",
      "include_colab_link": true
    },
    "kernelspec": {
      "name": "python3",
      "display_name": "Python 3"
    },
    "language_info": {
      "name": "python"
    }
  },
  "cells": [
    {
      "cell_type": "markdown",
      "metadata": {
        "id": "view-in-github",
        "colab_type": "text"
      },
      "source": [
        "<a href=\"https://colab.research.google.com/github/NilbertoFreitas/Riba/blob/main/Trabalho_UEPB_RIBA.ipynb\" target=\"_parent\"><img src=\"https://colab.research.google.com/assets/colab-badge.svg\" alt=\"Open In Colab\"/></a>"
      ]
    },
    {
      "cell_type": "code",
      "source": [
        "print(g)"
      ],
      "metadata": {
        "id": "pOsaLZl3Gggu"
      },
      "execution_count": null,
      "outputs": []
    },
    {
      "cell_type": "code",
      "source": [
        "entrada = input(\"\").split()\n",
        "\n",
        "resultado=[]\n",
        "for i in range(len(entrada)):\n",
        "  print(entrada[i])\n",
        "  \n",
        "  #gms\n",
        "  if 'g' in entrada[i] and 'm' in entrada[i] and 's' in entrada[i]:\n",
        "    graus = entrada[i].replace(\"g\", \"x\").replace(\"m\", \"x\").replace(\"s\", \"x\")\n",
        "    graus = graus.split('x')\n",
        "    graus.pop(-1)  #retira o último elemnto da lista que está vazio\n",
        "    resultado.append(graus)\n",
        "    \n",
        "  #gm\n",
        "  if 'g' in entrada[i] and 'm' in entrada[i] and 's' not in entrada[i]:\n",
        "    graus = entrada[i].replace(\"g\", \"x\").replace(\"m\", \"x\")\n",
        "    graus = graus.split('x')\n",
        "    graus.pop(-1)  #retira o último elemnto da lista que está vazio\n",
        "    graus.insert(2,'0')  # insere o zero na posição faltate do \"s\"\n",
        "    resultado.append(graus)\n",
        "\n",
        "  #gs\n",
        "  if 'g' in entrada[i] and 'm' not in entrada[i] and 's' in entrada[i]:\n",
        "    graus = entrada[i].replace(\"g\", \"x\").replace(\"s\", \"x\")\n",
        "    graus = graus.split('x')\n",
        "    graus.pop(-1)  #retira o último elemnto da lista que está vazio\n",
        "    graus.insert(1,'0')  # insere o zero na posição faltate do \"m\"\n",
        "    resultado.append(graus)\n",
        "\n",
        "  #ms\n",
        "  if 'g' not in entrada[i] and 'm' in entrada[i] and 's' in entrada[i]:\n",
        "    graus = entrada[i].replace(\"m\", \"x\").replace(\"s\", \"x\")\n",
        "    graus = graus.split('x')\n",
        "    graus.pop(-1)  #retira o último elemnto da lista que está vazio\n",
        "    graus.insert(0,'0')  # insere o zero na posição faltate do \"g\"\n",
        "    resultado.append(graus)\n",
        "\n",
        "  #g\n",
        "  if 'g' in entrada[i] and 'm' not in entrada[i] and 's' not in entrada[i]:\n",
        "    graus = entrada[i].replace(\"g\", \"x\")\n",
        "    graus = graus.split('x')\n",
        "    graus.pop(-1)  #retira o último elemnto da lista que está vazio\n",
        "    graus.insert(1,'0')  # insere o zero na posição faltate do \"m\"\n",
        "    graus.insert(2,'0')  # insere o zero na posição faltate do \"s\"\n",
        "    resultado.append(graus)\n",
        "\n",
        "  #m\n",
        "  if 'g' not in entrada[i] and 'm' in entrada[i] and 's' not in entrada[i]:\n",
        "    graus = entrada[i].replace(\"m\", \"x\")\n",
        "    graus = graus.split('x')\n",
        "    resultado.append(graus)\n",
        "\n",
        "  #s\n",
        "  if 'g' not in entrada[i] and 'm' not in entrada[i] and 's' in entrada[i]:\n",
        "    graus = entrada[i].replace(\"s\", \"x\")\n",
        "    graus = graus.split('x')\n",
        "    resultado.append(graus)\n",
        "  \n",
        "\n",
        "\n",
        "\n",
        "    #elif 'm' in entrada[i]:\n",
        "    #  m = entrada[i].split('m')\n",
        "    #elif 's' in entrada[i]:\n",
        "    #  s = entrada[i].split('s')\n",
        "\n",
        "#print(graus)\n",
        "print(resultado)\n",
        "#print(m)\n",
        "#print(s)\n"
      ],
      "metadata": {
        "colab": {
          "base_uri": "https://localhost:8080/"
        },
        "outputId": "961e3e22-0380-469c-f780-12a428d50434",
        "id": "tZrZnGQXuuqF"
      },
      "execution_count": 17,
      "outputs": [
        {
          "output_type": "stream",
          "name": "stdout",
          "text": [
            "35g\n",
            "35g\n",
            "(['35', '0', '0'],)\n"
          ]
        }
      ]
    }
  ]
}