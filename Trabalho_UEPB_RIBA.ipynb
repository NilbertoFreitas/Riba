{
  "nbformat": 4,
  "nbformat_minor": 0,
  "metadata": {
    "colab": {
      "name": "Trabalho UEPB RIBA.ipynb",
      "provenance": [],
      "collapsed_sections": [],
      "authorship_tag": "ABX9TyMAQOyXWdP4s4MdTBGNSldA",
      "include_colab_link": true
    },
    "kernelspec": {
      "name": "python3",
      "display_name": "Python 3"
    },
    "language_info": {
      "name": "python"
    }
  },
  "cells": [
    {
      "cell_type": "markdown",
      "metadata": {
        "id": "view-in-github",
        "colab_type": "text"
      },
      "source": [
        "<a href=\"https://colab.research.google.com/github/NilbertoFreitas/Riba/blob/main/Trabalho_UEPB_RIBA.ipynb\" target=\"_parent\"><img src=\"https://colab.research.google.com/assets/colab-badge.svg\" alt=\"Open In Colab\"/></a>"
      ]
    },
    {
      "cell_type": "code",
      "execution_count": 143,
      "metadata": {
        "colab": {
          "base_uri": "https://localhost:8080/"
        },
        "id": "bMdkRQcknoC-",
        "outputId": "91b1952e-5ea1-4a62-d6df-3edb7345978d"
      },
      "outputs": [
        {
          "output_type": "stream",
          "name": "stdout",
          "text": [
            "2s\n",
            "['2s']\n",
            "['2', '']\n",
            "2\n"
          ]
        }
      ],
      "source": [
        "entrada = input(\"\").split()\n",
        "\n",
        "#if entrada.isdecimal():\n",
        "#  print(\"Entrada incorreta\")\n",
        "#  exit\n",
        "\n",
        "print(entrada)\n",
        "\n",
        "\n",
        "for i in range(len(entrada)):\n",
        "  delimitador = entrada[i].replace(\"g\", \"x\").replace(\"m\", \"x\").replace(\"s\", \"x\")\n",
        "  #print(entrada[i])\n",
        "  separacao=delimitador.split(\"x\")\n",
        "  \n",
        "print(separacao)\n",
        "print(len(separacao))\n",
        "  \n",
        "\n",
        "#print(type(entrada))\n",
        "#print(type(entrada[1]))"
      ]
    },
    {
      "cell_type": "code",
      "source": [
        "entrada = input(\"\").split()\n",
        "\n",
        "for i in range(len(entrada)):\n",
        "  #print('Entradas ' + str(len(entrada)))\n",
        "  print(entrada[i])\n",
        "  resultado=[]\n",
        "  for n in entrada[i]:\n",
        "    #gms\n",
        "    if 'g' in entrada[i] and 'm' in entrada[i] and 's' in entrada[i]:\n",
        "      graus = entrada[i].replace(\"g\", \"x\").replace(\"m\", \"x\").replace(\"s\", \"x\")\n",
        "      graus = graus.split('x')\n",
        "      resultado.append(graus)\n",
        "    \n",
        "    #gm\n",
        "    if 'g' in entrada[i] and 'm' in entrada[i] and 's' not in entrada[i]:\n",
        "      graus = entrada[i].replace(\"g\", \"x\").replace(\"m\", \"x\")\n",
        "      graus = graus.split('x')\n",
        "      resultado.append(graus)\n",
        "\n",
        "    #gs\n",
        "    if 'g' in entrada[i] and 'm' not in entrada[i] and 's' in entrada[i]:\n",
        "      graus = entrada[i].replace(\"g\", \"x\").replace(\"s\", \"x\")\n",
        "      graus = graus.split('x')\n",
        "      resultado.append(graus)\n",
        "\n",
        "  #ms\n",
        "    if 'g' not in entrada[i] and 'm' in entrada[i] and 's' in entrada[i]:\n",
        "      graus = entrada[i].replace(\"m\", \"x\").replace(\"s\", \"x\")\n",
        "      graus = graus.split('x')\n",
        "      resultado.append(graus)\n",
        "\n",
        "    #g\n",
        "    if 'g' in entrada[i] and 'm' not in entrada[i] and 's' not in entrada[i]:\n",
        "      graus = entrada[i].replace(\"g\", \"x\")\n",
        "      graus = graus.split('x')\n",
        "      resultado.append(graus)\n",
        "\n",
        "    #m\n",
        "    if 'g' not in entrada[i] and 'm' in entrada[i] and 's' not in entrada[i]:\n",
        "      graus = entrada[i].replace(\"m\", \"x\")\n",
        "      graus = graus.split('x')\n",
        "      resultado.append(graus)\n",
        "\n",
        "    #s\n",
        "    if 'g' not in entrada[i] and 'm' not in entrada[i] and 's' in entrada[i]:\n",
        "      graus = entrada[i].replace(\"s\", \"x\")\n",
        "      graus = graus.split('x')\n",
        "      resultado.append(graus)\n",
        "  \n",
        "  \n",
        "\n",
        "\n",
        "\n",
        "    #elif 'm' in entrada[i]:\n",
        "    #  m = entrada[i].split('m')\n",
        "    #elif 's' in entrada[i]:\n",
        "    #  s = entrada[i].split('s')\n",
        "\n",
        "print(graus)\n",
        "print(resultado)\n",
        "#print(m)\n",
        "#print(s)\n"
      ],
      "metadata": {
        "colab": {
          "base_uri": "https://localhost:8080/"
        },
        "id": "8UQtslInB6Sg",
        "outputId": "db8fe43d-792a-437c-ada7-314747fb44f5"
      },
      "execution_count": 24,
      "outputs": [
        {
          "output_type": "stream",
          "name": "stdout",
          "text": [
            "25s\n",
            "25s\n",
            "['25', '']\n",
            "[['25', ''], ['25', ''], ['25', '']]\n"
          ]
        }
      ]
    },
    {
      "cell_type": "code",
      "source": [
        "print(g)"
      ],
      "metadata": {
        "id": "pOsaLZl3Gggu"
      },
      "execution_count": null,
      "outputs": []
    },
    {
      "cell_type": "code",
      "source": [
        "entrada = input(\"\").split()\n",
        "\n",
        "for i in range(len(entrada)):\n",
        "  #print('Entradas ' + str(len(entrada)))\n",
        "  print(entrada[i])\n",
        "  resultado=[]\n",
        "  #gms\n",
        "  if 'g' in entrada[i] and 'm' in entrada[i] and 's' in entrada[i]:\n",
        "    graus = entrada[i].replace(\"g\", \"x\").replace(\"m\", \"x\").replace(\"s\", \"x\")\n",
        "    graus = graus.split('x')\n",
        "    resultado.append(graus)\n",
        "    \n",
        "  #gm\n",
        "  if 'g' in entrada[i] and 'm' in entrada[i] and 's' not in entrada[i]:\n",
        "    graus = entrada[i].replace(\"g\", \"x\").replace(\"m\", \"x\")\n",
        "    graus = graus.split('x')\n",
        "    resultado.append(graus)\n",
        "\n",
        "  #gs\n",
        "  if 'g' in entrada[i] and 'm' not in entrada[i] and 's' in entrada[i]:\n",
        "    graus = entrada[i].replace(\"g\", \"x\").replace(\"s\", \"x\")\n",
        "    graus = graus.split('x')\n",
        "    resultado.append(graus)\n",
        "\n",
        "  #ms\n",
        "  if 'g' not in entrada[i] and 'm' in entrada[i] and 's' in entrada[i]:\n",
        "    graus = entrada[i].replace(\"m\", \"x\").replace(\"s\", \"x\")\n",
        "    graus = graus.split('x')\n",
        "    resultado.append(graus)\n",
        "\n",
        "  #g\n",
        "  if 'g' in entrada[i] and 'm' not in entrada[i] and 's' not in entrada[i]:\n",
        "    graus = entrada[i].replace(\"g\", \"x\")\n",
        "    graus = graus.split('x')\n",
        "    resultado.append(graus)\n",
        "\n",
        "  #m\n",
        "  if 'g' not in entrada[i] and 'm' in entrada[i] and 's' not in entrada[i]:\n",
        "    graus = entrada[i].replace(\"m\", \"x\")\n",
        "    graus = graus.split('x')\n",
        "    resultado.append(graus)\n",
        "\n",
        "  #s\n",
        "  if 'g' not in entrada[i] and 'm' not in entrada[i] and 's' in entrada[i]:\n",
        "    graus = entrada[i].replace(\"s\", \"x\")\n",
        "    graus = graus.split('x')\n",
        "    resultado.append(graus)\n",
        "  \n",
        "\n",
        "\n",
        "\n",
        "    #elif 'm' in entrada[i]:\n",
        "    #  m = entrada[i].split('m')\n",
        "    #elif 's' in entrada[i]:\n",
        "    #  s = entrada[i].split('s')\n",
        "\n",
        "print(graus)\n",
        "print(resultado)\n",
        "#print(m)\n",
        "#print(s)\n"
      ],
      "metadata": {
        "colab": {
          "base_uri": "https://localhost:8080/"
        },
        "outputId": "bebec40b-9102-472e-b62b-666d19fe150a",
        "id": "tZrZnGQXuuqF"
      },
      "execution_count": 33,
      "outputs": [
        {
          "output_type": "stream",
          "name": "stdout",
          "text": [
            "25g 42m 25s\n",
            "25g\n",
            "42m\n",
            "25s\n",
            "['25', '']\n",
            "[['25', '']]\n"
          ]
        }
      ]
    }
  ]
}